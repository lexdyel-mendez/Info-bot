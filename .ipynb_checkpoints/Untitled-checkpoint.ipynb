{
 "cells": [
  {
   "cell_type": "code",
   "execution_count": 1,
   "metadata": {},
   "outputs": [
    {
     "name": "stderr",
     "output_type": "stream",
     "text": [
      "Using TensorFlow backend.\n"
     ]
    }
   ],
   "source": [
    "#Import libraries.\n",
    "import sys\n",
    "import random\n",
    "import re\n",
    "import keras"
   ]
  },
  {
   "cell_type": "markdown",
   "metadata": {},
   "source": [
    "**Reading Text File**"
   ]
  },
  {
   "cell_type": "code",
   "execution_count": null,
   "metadata": {},
   "outputs": [],
   "source": [
    "def read_file():\n",
    "    text=(open(\"/Users/maria/github/ArtInt/Dataset/Dataset.txt\", encoding = \"utf-8-sig\").read().lower())\n",
    "    words = keras.preprocessing.text.text_to_word_sequence(data, filters='!\"#$%&()*+,-./:;<=>?@[\\\\]^_`{|}~\\t\\n', lower=True, split=' ')\n",
    "    return words"
   ]
  },
  {
   "cell_type": "code",
   "execution_count": null,
   "metadata": {},
   "outputs": [],
   "source": [
    "def makerule(words, context):\n",
    "    '''Make a rule dict for given data.'''\n",
    "    rule = {}\n",
    "    index = context\n",
    " \n",
    "    for word in words[index:]:\n",
    "        key = ' '.join(words[index-context:index])\n",
    "        if key in rule:\n",
    "            rule[key].append(word)\n",
    "        else:\n",
    "            rule[key] = [word]\n",
    "        index += 1\n",
    " \n",
    "    return rule"
   ]
  },
  {
   "cell_type": "code",
   "execution_count": null,
   "metadata": {},
   "outputs": [],
   "source": [
    "def makestring(rule, length):    \n",
    "    '''Use a given rule to make a string.'''\n",
    "    oldwords = random.choice(list(rule.keys())).split(' ') #random starting words\n",
    "    string = ' '.join(oldwords) + ' '\n",
    " \n",
    "    for i in range(length):\n",
    "        try:\n",
    "            key = ' '.join(oldwords)\n",
    "            newword = random.choice(rule[key])\n",
    "            string += newword + ' '\n",
    " \n",
    "            for word in range(len(oldwords)):\n",
    "                oldwords[word] = oldwords[(word + 1) % len(oldwords)]\n",
    "            oldwords[-1] = newword\n",
    " \n",
    "        except KeyError:\n",
    "            return string\n",
    "    return string"
   ]
  },
  {
   "cell_type": "code",
   "execution_count": null,
   "metadata": {},
   "outputs": [],
   "source": [
    "if __name__ == '__main__':\n",
    "    data = readdata(sys.argv[1])\n",
    "    rule = makerule(data, int(sys.argv[2]))\n",
    "    string = makestring(rule, int(sys.argv[3]))\n",
    "    print(string)"
   ]
  }
 ],
 "metadata": {
  "kernelspec": {
   "display_name": "Python 3",
   "language": "python",
   "name": "python3"
  },
  "language_info": {
   "codemirror_mode": {
    "name": "ipython",
    "version": 3
   },
   "file_extension": ".py",
   "mimetype": "text/x-python",
   "name": "python",
   "nbconvert_exporter": "python",
   "pygments_lexer": "ipython3",
   "version": "3.6.8"
  }
 },
 "nbformat": 4,
 "nbformat_minor": 2
}
